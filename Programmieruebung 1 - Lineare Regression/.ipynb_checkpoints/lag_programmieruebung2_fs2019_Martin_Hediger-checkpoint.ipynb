{
 "cells": [
  {
   "cell_type": "markdown",
   "metadata": {},
   "source": [
    "# Programmierübung 1: Lineare Regression\n",
    "\n",
    "## Modul: Lineare Algebra und Geometrie (lag)\n",
    "\n",
    "### Klassen: 2Ibb1 und 2iCa (FS 2019)\n",
    "\n",
    "### Lucia Di Caro, Cédric Huwyler\n",
    "\n",
    "<br><br>\n",
    "\n",
    "**Ziel der Übung**\n",
    "\n",
    "Ziel dieser Programmierübung ist die Anwendung des in der Vorlesung erworbenen Wissens über Gleichungssysteme und Matrizen (und ganz wenig Vektorgeometrie) indem ein bekanntes Problem zuerst erklärt wird und dann von den Studierenden mit Anleitung in Python implementiert werden soll. Speziell wird hier Fokus auf die Pakete `numpy` und `sympy` gelegt, die in der Vorlesung eingeführt wurden. Als Problem soll in dieser Übung die [Lineare Regression](https://de.wikipedia.org/wiki/Einfache_lineare_Regression) dienen. Die Lineare Regression spielt eine wichtige Rolle in der Statistik und im Machine Learning. Mit ihr kann ein parametrisches Modell über eine Verteilung aus Messpunkten gelegt werden und damit kann einerseits der Zusammenhang zwischen den Messpunkten besser verstanden werden (Statistik) und möglicherweise können auch Vorhersagen über weitere Messpunkte getroffen werden. Ein klassisches Beispiel einer linearen Regression ist das Anpassen einer Gerade an eine Schar von nur ungefähr auf einer Gerade liegenden Punkten. In dieser Übung wird die Lineare Regression aus dem Blickwinkel der linearen Algebra (und nicht der Statistik) betrachtet und es soll Stück für Stück genug Wissen aufgebaut werden, um zum Schluss selbständig lineare Regressionsprobleme lösen zu können. \n",
    "\n",
    "Als Vorbereitung auf die Lineare Regression (Aufgaben 4 und 5) wird in Aufgaben 1-3 zuerst die Berechnung ungefähren Lösungen für Gleichungssysteme ohne Lösung betrachtet.\n",
    "\n",
    "* In Aufgabe 1 lernen Sie, Gleichungssysteme mit Matrizenalgebra zu lösen und falls keine Lösung existiert, entsprechend mit dem Rang zu argumentieren. Ebenfalls lernen Sie, Gleichungssysteme mit zwei Unbekannten graphisch darzustellen und damit die Menge der Lösungen qualitativ zu bestimmen.\n",
    "\n",
    "* In Aufgabe 2 werden unlösbare Gleichungssysteme etwas entspannter betrachtet und es wird nur noch ein Vektor gesucht, der das Gleichungssystem bestmöglichst, aber nicht genau löst. Sie implementieren eine Funktion, die diesen Vektor durch systematische Suche auf einem Gitter von möglichen Vektoren findet.\n",
    "\n",
    "* In Aufgabe 3 werden die Normalengleichungen eingeführt, die einen exakten Vektor liefern, der ein unlösbares Gleichungssystem bestmöglichst löst. Ebenfalls wird der Zusammenhang zwischen diesen Normalengleichungen und der bestmöglichsten Lösung erklärt.\n",
    "\n",
    "* In Aufgabe 4 wird das Problem der linearen Regression allgemein eingeführt und als einfachstes Beispiel eine Gerade an eine Schar von nur ungefähr auf einer Geraden liegenden Punkten angepasst. Dabei wird der in den Aufgaben 1-3 aufgebaute Formalismus benutzt.\n",
    "\n",
    "* In Aufgabe 5 wird die einfache Anwendung in Aufgabe 4 auf zwei häufige Problemstellungen verallgemeinert: Regression mit Polynomen und multivariate Regression.\n",
    "\n",
    "**Machen Sie möglichst alle Rechnungen mit `numpy` oder `sympy`, nicht von Hand!**\n",
    "\n",
    "\n",
    "Wir stellen Ihnen teilweise schon ein Rahmengerüst der Implementierung zur Verfügung. Verändern Sie bitte diese Gerüste nicht, sondern fügen Sie Ihr Code in den Zellen mit `# IHR CODE` oder, falls schon etwas vorgegeben ist, zwischen den Kommentaren `# IHR CODE BEGINNT HIER` und `# IHR CODE ENDET HIER` ein.\n",
    "\n",
    "Sie dürfen in dieses Notebook über den Menüpunkt 'Insert' durchaus weitere Zeilen für weitere Code-Teile und Kommentare einfügen. Falls Sie gerne Markdown-Notizen in die Zelle einfügen möchten, können Sie den Modus der Zelle von 'Code' auf 'Markdown' setzen (oder Esc-M drücken).\n",
    "\n",
    "**Rahmenbedingungen / Abgabe**\n",
    "\n",
    "* Die Studierenden sollen die Lösungen **selbständig** erarbeiten (klar erkennbare Kopien geben die Note 1).\n",
    "\n",
    "* Die Lösungen sind als **Jupyter-Notebook-Datei** abzugeben\n",
    "\n",
    "* Ihre Lösungen werden bewertet.\n",
    "\n",
    "* Es können gesamthaft 47 Punkte erreicht werden. Es kommt eine lineare Notenskala (0 Punkte => Note 1, 40 Punkte => Note 6) zum Einsatz! \n",
    "\n",
    "* Zeitaufwand für eine 4.5: ca. 180 Minuten.\n",
    "\n",
    "* Abgabetermin: **8. April 2019** - bitte senden Sie Ihre Lösungen gut dokumentiert per Email an [Cédric Huwyler](mailto:cedric.huwyler@fhnw.ch) oder [Lucia Di Caro](mailto:lucia.dicaro@fhnw.ch).\n",
    "\n",
    "* **Hinweis:** Je besser Sie Ihre Berechnungen und Ihren Code kommentieren, desto eher können Sie bei Fehlern noch Teilpunkte erhalten."
   ]
  },
  {
   "cell_type": "markdown",
   "metadata": {},
   "source": [
    "Verwenden Sie ausschliesslich die hier eingebundenen Bibliotheken."
   ]
  },
  {
   "cell_type": "code",
   "execution_count": 1,
   "metadata": {},
   "outputs": [],
   "source": [
    "import numpy as np\n",
    "import sympy as sp\n",
    "import matplotlib.pyplot as plt\n",
    "%matplotlib inline"
   ]
  },
  {
   "cell_type": "markdown",
   "metadata": {},
   "source": [
    "## Aufgabe 1: Lineare Gleichungssysteme mit Matrizen lösen (11 Punkte)"
   ]
  },
  {
   "cell_type": "markdown",
   "metadata": {},
   "source": [
    "### Teilaufgabe a) (5 Punkte)\n",
    "\n",
    "Gegeben sei das lineare Gleichungssystem *(A)*\n",
    "\n",
    "$$\n",
    "\\left|\n",
    "\\begin{eqnarray}\n",
    "3x_1 - x_2 &=& 7 \\\\\n",
    "2x_1 + 3x_2 &=& 1 \\\\\n",
    "\\end{eqnarray}\n",
    "\\right|.\n",
    "$$\n",
    "\n",
    "Zerlegen Sie dieses Gleichungssystem in eine Koeffizientenmatrix $A$ und einen Spaltenvektor $\\vec{b}$. Erstellen Sie ebenfalls die *erweiterte Koeffizientenmatrix* $\\hat{A}$ mit `np.hstack`.\n",
    "\n",
    "Argumentieren Sie mit den Rängen von $A$ und $\\hat{A}$, dass das Gleichungssystem genau eine Lösung hat:"
   ]
  },
  {
   "cell_type": "code",
   "execution_count": 2,
   "metadata": {},
   "outputs": [],
   "source": [
    "# IHR CODE: Definieren Sie hier die Matrizen A, b und Ahat\n",
    "A = np.array([[3,-1], [2,3]])\n",
    "b = np.array([[7], [1]])\n",
    "Ahat = np.hstack((A,b))\n"
   ]
  },
  {
   "cell_type": "code",
   "execution_count": 3,
   "metadata": {},
   "outputs": [
    {
     "name": "stdout",
     "output_type": "stream",
     "text": [
      "   rang(A)          rang(Ahat)\n",
      "         2                   2\n"
     ]
    }
   ],
   "source": [
    "# IHR CODE: Berechnen Sie hier die Ränge von A und Ahat und geben Sie sie aus\n",
    "print(\"{0:>10}{1:>20}\".format(\"rang(A)\", \"rang(Ahat)\"))\n",
    "print(\"{0:>10}{1:>20}\".format(np.linalg.matrix_rank(A), np.linalg.matrix_rank(Ahat)))"
   ]
  },
  {
   "cell_type": "markdown",
   "metadata": {},
   "source": [
    "*Schreiben Sie hier Ihre Argumentation*\n",
    "\n",
    "**Rang von A und A_hat ist = 2 was der Anzahl Variablen entspricht. Deshalb gibt es genau eine Lösung.**"
   ]
  },
  {
   "cell_type": "markdown",
   "metadata": {},
   "source": [
    "Mit `matplotlib` können Sie das Gleichungssystem mit folgendem Code graphisch darstellen:"
   ]
  },
  {
   "cell_type": "code",
   "execution_count": 4,
   "metadata": {},
   "outputs": [
    {
     "data": {
      "image/png": "[encoded data removed]",
      "text/plain": [
       "<Figure size 432x288 with 1 Axes>"
      ]
     },
     "metadata": {
      "needs_background": "light"
     },
     "output_type": "display_data"
    }
   ],
   "source": [
    "x1 = np.linspace(-10,10,100) # definiert den Wertebereich für die unabhängige Variable x1\n",
    "x2 = (b[0] - A[0,0]*x1) / A[0,1] # berechnet x2(x1) für die erste Gleichung\n",
    "plt.plot( x1, x2, label=\"{} $x_1$ + {} $x_2$ = {}\".format( A[0,0], A[0,1], b[0][0] ) )\n",
    "x2 = (b[1] - A[1,0]*x1) / A[1,1] # berechnet x2(x1) für die zweite Gleichung\n",
    "plt.plot( x1, x2, label=\"{} $x_1$ + {} $x_2$ = {}\".format( A[1,0], A[1,1], b[0][0] ) )\n",
    "plt.legend()\n",
    "plt.show()"
   ]
  },
  {
   "cell_type": "markdown",
   "metadata": {},
   "source": [
    "### Teilaufgabe b) (2 Punkte)\n",
    "\n",
    "Bestimmen Sie nun die Lösung des Gleichungssystems *(A)* mittels Multiplikation mit $A^{-1}$. Geben Sie Ihre Lösung aus."
   ]
  },
  {
   "cell_type": "code",
   "execution_count": 7,
   "metadata": {},
   "outputs": [
    {
     "name": "stdout",
     "output_type": "stream",
     "text": [
      "A\n",
      "[[ 3 -1]\n",
      " [ 2  3]]\n",
      "\n",
      "Ainv\n",
      "[[ 0.27272727  0.09090909]\n",
      " [-0.18181818  0.27272727]]\n",
      "\n",
      "Solution: A^-1 * b\n",
      "[[ 2.]\n",
      " [-1.]]\n"
     ]
    }
   ],
   "source": [
    "# IHR CODE\n",
    "print(\"A\")\n",
    "print(A)\n",
    "print\n",
    "\n",
    "Ainv = np.linalg.inv(A)\n",
    "\n",
    "print(\"Ainv\")\n",
    "print(Ainv)\n",
    "print\n",
    "\n",
    "\n",
    "\n",
    "print(\"Solution: A^-1 * b\")\n",
    "print(np.dot(Ainv, b))\n",
    "\n",
    "\n",
    "\n",
    "\n"
   ]
  },
  {
   "cell_type": "markdown",
   "metadata": {},
   "source": [
    "### Teilaufgabe c) (4 Punkte)\n",
    "\n",
    "Nun fügen wir eine weitere Gleichung zum System hinzu und nennen dieses System im Folgenden *(B)*:\n",
    "\n",
    "$$\n",
    "\\left|\n",
    "\\begin{eqnarray}\n",
    "3x_1 - x_2 &=& 7 \\\\\n",
    "2x_1 + 3x_2 &=& 1 \\\\\n",
    "6x_1 - 2x_2 &=& -1 \\\\\n",
    "\\end{eqnarray}\n",
    "\\right|.\n",
    "$$"
   ]
  },
  {
   "cell_type": "markdown",
   "metadata": {},
   "source": [
    "Berechnen Sie wie oben wieder die Lösung mit Multiplikation mit der Inversen von $A$. Was stellen Sie fest? Erklären Sie das Problem."
   ]
  },
  {
   "cell_type": "code",
   "execution_count": 29,
   "metadata": {},
   "outputs": [
    {
     "name": "stdout",
     "output_type": "stream",
     "text": [
      "B\n",
      "[[ 3 -1]\n",
      " [ 2  3]\n",
      " [ 6 -2]]\n",
      "\n",
      "b\n",
      "[[ 7]\n",
      " [ 1]\n",
      " [-1]]\n",
      "\n",
      "B_hat\n",
      "[[ 3 -1  7]\n",
      " [ 2  3  1]\n",
      " [ 6 -2 -1]]\n",
      "\n",
      "Shape B: (3, 2)\n",
      "Shape b: (3, 1)\n",
      "\n",
      "Rang Koeffizientenmatrix B: 2\n",
      "Rang erweiterte Koeffizientenmatrix Bhat: 3\n",
      "\n",
      "Letzte Zeile - 2*Erste Zeile\n"
     ]
    },
    {
     "data": {
      "text/plain": [
       "array([  0,   0, -15])"
      ]
     },
     "execution_count": 29,
     "metadata": {},
     "output_type": "execute_result"
    }
   ],
   "source": [
    "# IHR CODE\n",
    "from numpy import dot\n",
    "from numpy.linalg import inv, matrix_rank\n",
    "\n",
    "\n",
    "# Reset b because it accumulated values somemhow\n",
    "b = np.array([[7], [1]])\n",
    "\n",
    "B = np.vstack( (A, np.array([[6, -2]]))  )\n",
    "b = np.vstack( (b, np.array([[-1   ]]))  )\n",
    "\n",
    "B_hat = np.hstack((B, b))\n",
    "\n",
    "print(\"B\")\n",
    "print(B)\n",
    "print\n",
    "\n",
    "print(\"b\")\n",
    "print(b)\n",
    "print\n",
    "\n",
    "print(\"B_hat\")\n",
    "print(B_hat)\n",
    "print\n",
    "\n",
    "print(\"Shape B: {0}\".format(np.shape(B)))\n",
    "print(\"Shape b: {0}\".format(np.shape(b)))\n",
    "print\n",
    "\n",
    "print(\"Rang Koeffizientenmatrix B: {0}\".format(matrix_rank(B)))\n",
    "print(\"Rang erweiterte Koeffizientenmatrix Bhat: {0}\".format(matrix_rank(Bhat)))\n",
    "print\n",
    "\n",
    "\n",
    "print(\"Letzte Zeile - 2*Erste Zeile\")\n",
    "B_hat[2] - 2*B_hat[0]\n"
   ]
  },
  {
   "cell_type": "markdown",
   "metadata": {},
   "source": [
    "*Ihr Kommentar*\n",
    "\n",
    "\n",
    "** -> 0 = -15 -> ERROR ** \n",
    "\n",
    "** -> Rang(B) != Rang(Bhat) --> no solution**"
   ]
  },
  {
   "cell_type": "markdown",
   "metadata": {},
   "source": [
    "Erweitern Sie den Code aus Teilaufgabe a) entsprechend um das Gleichungssystem *(B)* graphisch darzustellen:"
   ]
  },
  {
   "cell_type": "code",
   "execution_count": 37,
   "metadata": {},
   "outputs": [
    {
     "data": {
      "image/png": "[encoded data removed]",
      "text/plain": [
       "<Figure size 432x288 with 1 Axes>"
      ]
     },
     "metadata": {
      "needs_background": "light"
     },
     "output_type": "display_data"
    }
   ],
   "source": [
    "# IHR CODE\n",
    "\n",
    "# definiert den Wertebereich für die unabhängige Variable x1\n",
    "x1 = np.linspace(-10,10,100)\n",
    "\n",
    "# berechnet x2(x1) für die erste Gleichung\n",
    "# x2 = (b[0] - B[0,0]*x1) / B[0,1]\n",
    "\n",
    "# berechnet x2(x1) für die zweite Gleichung\n",
    "# x2 = (b[1] - B[1,0]*x1) / B[1,1]\n",
    "\n",
    "# Dritte Gleichung\n",
    "# x2 = (b[2] - B[2,0]*x1) / B[2,1]\n",
    "\n",
    "\n",
    "plt.plot( x1, (b[0] - B[0,0]*x1) / B[0,1], label=\"{0} $x_1$ + {1} $x_2$ = {2}\".format( B[0,0], B[0,1], b[0][0] ) )\n",
    "plt.plot( x1, (b[1] - B[1,0]*x1) / B[1,1], label=\"{0} $x_1$ + {1} $x_2$ = {2}\".format( B[1,0], B[1,1], b[1][0] ) )\n",
    "plt.plot( x1, (b[2] - B[2,0]*x1) / B[2,1], label=\"{0} $x_1$ + {1} $x_2$ = {2}\".format( B[2,0], B[2,1], b[2][0] ) )\n",
    "\n",
    "\n",
    "plt.legend()\n",
    "plt.show()"
   ]
  },
  {
   "cell_type": "markdown",
   "metadata": {},
   "source": [
    "## Aufgabe 2: Approximative Lösungen (9 Punkte)"
   ]
  },
  {
   "cell_type": "markdown",
   "metadata": {},
   "source": [
    "### Teilaufgabe a) (3 Punkte)"
   ]
  },
  {
   "cell_type": "markdown",
   "metadata": {},
   "source": [
    "In Aufgabe 1 haben Sie versucht, das Gleichungssystem *(B)*\n",
    "\n",
    "$$\n",
    "\\left|\n",
    "\\begin{eqnarray}\n",
    "3x_1 - x_2 &=& 7 \\\\\n",
    "2x_1 + 3x_2 &=& 1 \\\\\n",
    "6x_1 - 2x_2 &=& -1 \\\\\n",
    "\\end{eqnarray}\n",
    "\\right|\n",
    "$$\n",
    "\n",
    "zu lösen und haben erkannt, dass keine Lösung existieren kann. Im Folgenden versuchen wir, eine Lösung zu finden, die das Problem nicht genau, aber so gut wie möglich (approximativ) löst.\n",
    "\n",
    "Sie haben gesehen, dass sich ein lineares Gleichungssystem als $A \\vec{x} = \\vec{b}$ formulieren lässt. Wir 'entspannen' im Folgenden das `=` durch ein `≈` (fast gleich):\n",
    "\n",
    "$$A \\vec{x} ≈ \\vec{b}.$$\n",
    "\n",
    "Wir möchten nun $\\vec{x}$ so wählen, dass die (vektorielle) Differenz $A\\vec{x} - \\vec{b}$ möglichst klein, also möglichst nahe beim Nullvektor ist. Dabei beschränken wir uns der Einfachheit halber auf den Betrag dieser vektoriellen Differenz und definieren die approximative Lösung des Problems folgendermassen:\n",
    "\n",
    "$$\\hat{\\vec{x}} = \\arg \\min_{\\vec{x} \\, \\in \\, R^{2}} |A \\vec{x} - \\vec{b}| $$\n",
    "\n",
    "$\\hat{\\vec{x}}$ ist also der Vektor, der den Betrag $|A \\vec{x} - \\vec{b}|$ minimiert."
   ]
  },
  {
   "cell_type": "markdown",
   "metadata": {},
   "source": [
    "Gegeben sei $\\vec{x} = \\begin{pmatrix} 2 \\\\ -1 \\end{pmatrix}$. Berechnen Sie $|A \\vec{x} - \\vec{b}|$.\n",
    "\n",
    "**Hinweis:** Den Betrag eines Vektors können Sie mit `np.linalg.norm()` berechnen."
   ]
  },
  {
   "cell_type": "code",
   "execution_count": null,
   "metadata": {},
   "outputs": [],
   "source": [
    "# IHR CODE\n"
   ]
  },
  {
   "cell_type": "markdown",
   "metadata": {},
   "source": [
    "### Teilaufgabe b) (2 Punkte)"
   ]
  },
  {
   "cell_type": "markdown",
   "metadata": {},
   "source": [
    "Welcher der Vektoren $$\\boldsymbol{x} \\in \\left\\{ \\begin{pmatrix} 0 \\\\ 1 \\end{pmatrix}, \\begin{pmatrix} 0.8 \\\\ -1 \\end{pmatrix}, \\begin{pmatrix} 2 \\\\ -1 \\end{pmatrix} \\right\\}$$ führt zum kleinsten Wert von $|A \\vec{x} - \\vec{b}|$, löst also das Gleichungssystem am besten?"
   ]
  },
  {
   "cell_type": "code",
   "execution_count": null,
   "metadata": {},
   "outputs": [],
   "source": [
    "# IHR CODE\n"
   ]
  },
  {
   "cell_type": "markdown",
   "metadata": {},
   "source": [
    "*Ihre Antwort in Markdown*"
   ]
  },
  {
   "cell_type": "markdown",
   "metadata": {},
   "source": [
    "### Teilaufgabe c) (4 Punkte)"
   ]
  },
  {
   "cell_type": "markdown",
   "metadata": {},
   "source": [
    "Wir möchten nun diesen Differenzbetrag systematisch minimieren. Im Folgenden geben wir Ihnen eine systematische Liste $X$ von möglichen Lösungsvektoren $\\vec{x}$ vor:"
   ]
  },
  {
   "cell_type": "code",
   "execution_count": null,
   "metadata": {},
   "outputs": [],
   "source": [
    "n = 1000\n",
    "xmin = -10\n",
    "xmax = 10\n",
    "X = np.empty( shape=(2,n**2) )\n",
    "X1 = np.linspace( xmin, xmax, n )\n",
    "X2 = np.linspace( xmin, xmax, n )\n",
    "for i in range( n ):\n",
    "    for j in range( n ):\n",
    "        X[:,n*i+j] = np.array([X1[i],X2[j]])\n",
    "        \n",
    "print( \"Dimensionen von X: {}\".format( X.shape ) )"
   ]
  },
  {
   "cell_type": "markdown",
   "metadata": {},
   "source": [
    "$X$ ist also eine Aneinanderreihung von 1'000'000 verschiedenen Spaltenvektoren mit zwei Zeilen. Finden Sie den Vektor, der das Gleichungssystem am besten annähert und geben Sie ihn aus.\n",
    "\n",
    "**Hinweis:** \n",
    "* Sie können $A$ direkt mit $X$ multiplizieren (statt mit jedem einzelnen Vektor `X[:,i]`, prüfen Sie warum) \n",
    "* `np.linalg.norm( .., axis=.. )` reduziert mit `axis=0` alle Spalten(-vektoren) und mit `axis=1` alle Zeilen(-vektoren) auf ihren Betrag\n",
    "* .. + ein weiterer Befehl aus der numpy-Trickkiste."
   ]
  },
  {
   "cell_type": "code",
   "execution_count": null,
   "metadata": {},
   "outputs": [],
   "source": [
    "# IHR CODE\n"
   ]
  },
  {
   "cell_type": "markdown",
   "metadata": {},
   "source": [
    "Stellen Sie nun die gefundene Lösung graphisch dar. Erweitern Sie dazu den Code vom Schluss der Teilaufgabe 1c) um eine passende Zeile."
   ]
  },
  {
   "cell_type": "code",
   "execution_count": null,
   "metadata": {},
   "outputs": [],
   "source": [
    "# IHR CODE\n"
   ]
  },
  {
   "cell_type": "markdown",
   "metadata": {},
   "source": [
    "#### Noch eine kleine Anmerkung:\n",
    "\n",
    "Der Fehler $|f(\\vec{x})-\\vec{b}|$ mit $f(\\vec{x}) = A\\vec{x}$ lässt sich als *Summe von Quadraten* schreiben:\n",
    "\n",
    "$$ |f(\\vec{x})- \\vec{b}| = \\sqrt{ (f(\\vec{x})_1 - b_1 )^2 + (f(\\vec{x})_2 - b_2 )^2 }. $$\n",
    "\n",
    "Wenn wir in einem dreidimensionalen Plot den Betrag der Differenz als Funktion von $x_1$ und $x_2$, also mit $x=x_1, y=x_2, z=|f(\\vec{x})-\\vec{b}|$ graphisch darstellen, bekommen wir die folgende Visualisierung:"
   ]
  },
  {
   "cell_type": "code",
   "execution_count": null,
   "metadata": {},
   "outputs": [],
   "source": [
    "n = 100\n",
    "Z = np.empty(shape=(n,n))\n",
    "X1 = np.linspace( xmin, xmax, n )\n",
    "X2 = np.linspace( xmin, xmax, n )\n",
    "X,Y = np.meshgrid(X1, X2)\n",
    "for i in range(n):\n",
    "    for j in range(n):\n",
    "        Z[i,j] = np.linalg.norm( A.dot( np.array([[X1[i]],[X2[j]]]) ) - b )\n",
    "\n",
    "plt.figure( figsize=(15,9) )\n",
    "from mpl_toolkits.mplot3d import Axes3D\n",
    "ax = plt.subplot(1,1,1, projection='3d')\n",
    "ax.view_init(20, 133)\n",
    "ax.plot_surface(X, Y, Z, linewidth=0.2 )\n",
    "ax.set_xlabel(\"x1\")\n",
    "ax.set_ylabel(\"x2\")\n",
    "ax.set_zlabel(\"Summe der Fehlerquadrate\")\n",
    "\n",
    "cs = ax.contour( X, Y, Z, 15, colors=\"k\", offset=-2 )\n",
    "ax.contourf( X, Y, Z, 15, zdir='z', offset=-2, cmap=\"Reds\" )\n",
    "\n",
    "plt.show()"
   ]
  },
  {
   "cell_type": "markdown",
   "metadata": {},
   "source": [
    "Die Summe der Fehlerquadrate hat ein globales Minimum, und dieses Minimum möchten wir finden! Oben haben wir das mit einem Netz von Werten für $x_1$ und $x_2$ berechnet. Das wird sehr ineffizient, wenn wir eine höhere Genauigkeit erhalten  möchten (setzen Sie zum Beispiel einmal $n=10000$). In der Aufgabe 3 suchen und finden wir eine exakte Methode, die uns das Resultat ohne das Durchprobieren von Punkten liefert."
   ]
  },
  {
   "cell_type": "markdown",
   "metadata": {},
   "source": [
    "## Aufgabe 3: Die Normalengleichung (3 Punkte, 4 Zusatzpunkte möglich)\n",
    "\n",
    "Die approximative Lösung eines eigentlich unlösbaren Gleichungssystems, die $|A \\vec{x} - \\vec{b}|$ minimiert, lässt sich statt mit der obigen Gittersuche auch exakt mittels einer Formel finden. \n",
    "Die Matrix $A \\in \\mathbb{R}^{m\\times n}$ hat im Allgemeinen mehr Zeilen als Spalten ($m>n$) und ist daher nicht regulär (nicht invertierbar). Eine invertierbare Matrix ist zwingenderweise quadratisch, wir suchen also eine lineare Transformation, mit der wir eine quadratische Matrix erzeugen können. Da es sich um ein Gleichungssystem mit $n$ Variablen handelt, sollte diese Matrix $n$ Zeilen und $n$ Spalten haben. Folgende Transformation bietet sich an:\n",
    "\n",
    "$$A^T A \\in \\mathbb{R}^{n\\times n},$$\n",
    "\n",
    "da $A^T \\in \\mathbb{R}^{n\\times m}$. Multiplizieren wir also das Gleichungssystem $A \\vec{x} = \\vec{b}$ auf beiden Seiten mit $A^T$ **von links** (Erinnerung: Matrizen kommutieren nicht!), so erhalten wir die sogenannte **Normalengleichung**:\n",
    "\n",
    "$$ A^T A \\vec{x} = A^T \\vec{b}.$$\n",
    "\n",
    "Falls $\\left( A^T A \\right)^{-1}$ existiert, können wir die Gleichung auf beiden Seiten von links mit $\\left( A^T A \\right)^{-1}$ multiplizieren und erhalten die Lösung\n",
    "\n",
    "$$ \\vec{x} = \\left( A^T A \\right)^{-1} A^T \\vec{b}.$$"
   ]
  },
  {
   "cell_type": "markdown",
   "metadata": {},
   "source": [
    "### Teilaufgabe a) (3 Punkte)\n",
    "\n",
    "Berechnen Sie mit der obigen Formel für $\\vec{x}$ die approximative Lösung für die beiden Gleichungssysteme *(A)* und *(B)* aus Aufgabe 1:\n",
    "\n",
    "$$\n",
    "\\left|\n",
    "\\begin{eqnarray}\n",
    "3x_1 - x_2 &=& 7 \\\\\n",
    "2x_1 + 3x_2 &=& 1 \\\\\n",
    "\\end{eqnarray}\n",
    "\\right|,\n",
    "$$\n",
    "\n",
    "und\n",
    "\n",
    "$$\n",
    "\\left|\n",
    "\\begin{eqnarray}\n",
    "3x_1 - x_2 &=& 7 \\\\\n",
    "2x_1 + 3x_2 &=& 1 \\\\\n",
    "6x_1 - 2x_2 &=& -1 \\\\\n",
    "\\end{eqnarray}\n",
    "\\right|\n",
    "$$"
   ]
  },
  {
   "cell_type": "code",
   "execution_count": null,
   "metadata": {},
   "outputs": [],
   "source": [
    "# IHR CODE\n"
   ]
  },
  {
   "cell_type": "code",
   "execution_count": null,
   "metadata": {
    "scrolled": true
   },
   "outputs": [],
   "source": [
    "# IHR CODE\n"
   ]
  },
  {
   "cell_type": "markdown",
   "metadata": {},
   "source": [
    "Kommen Sie auf ähnliche Lösungen wie in Teilaufgabe 2c) ?"
   ]
  },
  {
   "cell_type": "markdown",
   "metadata": {},
   "source": [
    "*Ihr Kommentar*"
   ]
  },
  {
   "cell_type": "markdown",
   "metadata": {},
   "source": [
    "### Teilaufgabe b) (freiwillig, zusätzlich 4 Punkte) \n",
    "\n",
    "Es ist natürlich kein Zufall, dass wir für unsere approximative Berechnung mit Minimierung des Fehlers und für die Lösung mit Normalengleichung sehr ähnliche Resultate erhalten. Diesen Zusammenhang möchten wir hier untersuchen.\n",
    "\n",
    "Im Folgenden sei die Suche nach dem Vektor $\\vec{x}$, der den Ausdruck $|A\\vec{x}-\\vec{b}|$ minimiert, als geometrisches Problem für $\\vec{x} \\in \\mathbb{R}^2$ im dreidimensionalen Raum dargestellt. Dabei sei $\\hat{\\vec{b}} = A\\hat{\\vec{x}}$ und ${\\hat{\\vec{x}}} = \\arg\\min_{\\vec{x}} |A\\vec{x}-\\vec{b}|$."
   ]
  },
  {
   "attachments": {
    "image.png": {
     "image/png": "[encoded data removed]"
    }
   },
   "cell_type": "markdown",
   "metadata": {},
   "source": [
    "<img src=\"attachment:image.png\" width=\"400\">"
   ]
  },
  {
   "cell_type": "markdown",
   "metadata": {},
   "source": [
    "Die zweidimensionalen $\\vec{x}$ decken ursprünglich die $x$-$y$-Ebene des Koordinatensystems ab (aufgespannt durch die Standardbasis $\\{\\vec{e}_1, \\vec{e}_2\\}$). Durch die Multiplikation mit $A$ wird diese Ebene eine Ebene bleiben, aber möglicherweise aus der $x$-$y$-Ebene gedreht (Die Standardbasis wird zu $\\{A \\vec{e}_1, A \\vec{e}_2\\}$). Der Vektor $\\vec{b}$ ist beliebig zu dieser Ebene orientiert und liegt im Allgemeinen nicht auf der Ebene. $\\hat{\\vec{b}}$ ist der Vektor mit minimalem Abstand zu $\\vec{b}$; das ist gerade derjenige Vektor, mit dem die Differenz $\\hat{\\vec{b}}-\\vec{b}$ senkrecht zur Ebene steht.\n",
    "\n",
    "Die transformierten Standardbasisvektoren $A\\vec{e}_1$ und $A\\vec{e}_2$ liegen auf der Ebene und geben uns ausreichend Information über ihre Ausrichtung. Die Differenz $\\hat{\\vec{b}}-\\vec{b}$ steht also senkrecht zur Ebene, falls sie einerseits senkrecht zu $A \\vec{e}_1$, andererseits aber auch senkrecht zu $A \\vec{e}_2$ steht. Wir können damit das folgende Gleichungssystem aufstellen:\n",
    "\n",
    "$$\n",
    "\\left|\n",
    "\\begin{eqnarray}\n",
    "(A\\hat{\\vec{x}}-\\vec{b}) \\cdot A\\vec{e}_1 &=& 0 \\\\\n",
    "(A\\hat{\\vec{x}}-\\vec{b}) \\cdot A\\vec{e}_2 &=& 0\n",
    "\\end{eqnarray}\n",
    "\\right|\n",
    "$$\n",
    "\n",
    "Finden Sie die beste approximative Lösung des nicht-lösbaren Gleichungssystems aus Aufgabe 1c) und zeigen Sie, dass Sie die gleiche Lösung wie in der Teilaufgabe a) erhalten. Benutzen Sie dazu die `sympy`-Bibliothek, insbesondere den Befehl `solve()`."
   ]
  },
  {
   "cell_type": "code",
   "execution_count": null,
   "metadata": {},
   "outputs": [],
   "source": [
    "A = np.array( [[3,-1], [2,3], [6,-2]] )\n",
    "b = np.array( [[7],[1],[1]] )\n",
    "\n",
    "x1, x2 = sp.symbols('x1, x2')\n",
    "x = np.array([[x1],[x2]])\n",
    "\n",
    "# IHR CODE\n"
   ]
  },
  {
   "cell_type": "markdown",
   "metadata": {},
   "source": [
    "**Optionale Bemerkung für Interessierte:**\n",
    "    \n",
    "Wir können das obige Gleichungssystem leicht umformen, um auf die Normalengleichungen zu kommen:\n",
    "\n",
    "$$\n",
    "\\left|\n",
    "\\begin{eqnarray}\n",
    "(A^T (A\\hat{\\vec{x}}-\\vec{b}))^T \\vec{e}_1 &=& 0 \\\\\n",
    "(A^T (A\\hat{\\vec{x}}-\\vec{b}))^T \\vec{e}_2 &=& 0\n",
    "\\end{eqnarray}\n",
    "\\right|\n",
    "$$\n",
    "\n",
    "Das impliziert wegen $\\vec{e}_1, \\vec{e}_2 \\neq \\vec{0}$, dass $A^T (A\\hat{\\vec{x}}-\\vec{b}) = 0$, und ausmultipliziert $A^T A \\hat{\\vec{x}} = A^T \\vec{b}$.\n",
    "\n",
    "In weiterführenden Vorlesungen (*eana* oder *vana*) werden Sie eine Methode kennenlernen, mit der Sie die Normalengleichungen ohne geometrische Überlegungen mit einer *Ableitung* herleiten können."
   ]
  },
  {
   "cell_type": "markdown",
   "metadata": {},
   "source": [
    "## Aufgabe 4: Lineare Regression (9 Punkte)"
   ]
  },
  {
   "cell_type": "markdown",
   "metadata": {},
   "source": [
    "Bisher haben wir approximative Lösungen für unlösbare lineare Gleichungssysteme bestimmt. Nun wenden wir unseren Lösungsansatz auf ein sehr bekanntes Problem an, die *Lineare Regression*:\n",
    "\n",
    "**Gegeben:**\n",
    "Ein Satz von Funktionen $f_1, \\dots, f_r$ und eine Menge aus $n$ Wertepaaren $\\left\\{(x_1, y_1), (x_2, y_2), \\dots, (x_n, y_n)\\right\\}$ mit $i = 1, .., n$.\n",
    "\n",
    "**Gesucht:**\n",
    "$\\lambda_1, \\dots, \\lambda_r \\in \\mathbb{R}$, so dass die Funktion $f(x) = \\lambda_1 f_1(x) + \\dots + \\lambda f_r(x)$ den quadratischen Fehler $\\left( f(x_1) - y_1 \\right)^2 + \\dots + \\left( f(x_n) - y_n \\right)^2$ minimiert."
   ]
  },
  {
   "cell_type": "markdown",
   "metadata": {},
   "source": [
    "Dieses Problem lässt sich als lineares Gleichungssystem formulieren mit\n",
    "\n",
    "$$\n",
    "\\begin{equation}\n",
    "\\boldsymbol{A} = \\begin{pmatrix}\n",
    "f_1(x_1) & \\dots & f_r(x_1) \\\\\n",
    "\\vdots & & \\vdots \\\\\n",
    "f_1(x_n) & \\dots & f_r(x_n) \\\\\n",
    "\\end{pmatrix},\n",
    "\\quad\n",
    "\\boldsymbol{v} = \\begin{pmatrix}\n",
    "\\lambda_1 \\\\ \\vdots \\\\ \\lambda_r\n",
    "\\end{pmatrix},\n",
    "\\quad\n",
    "\\boldsymbol{b} = \\begin{pmatrix}\n",
    "y_1 \\\\ \\vdots \\\\ y_n\n",
    "\\end{pmatrix}\n",
    "\\end{equation}.\n",
    "$$\n",
    "\n",
    "Wir benutzen im Folgenden für die Lösung den Vektor $\\vec{v}$ statt $\\vec{x}$, um Verwechslungen mit der Koordinate $\\vec{x}$ zu vermeiden."
   ]
  },
  {
   "cell_type": "markdown",
   "metadata": {},
   "source": [
    "Als einfache Anwendung davon lässt sich die am besten passende Gerade durch eine Menge von Punkten finden:"
   ]
  },
  {
   "attachments": {
    "image.png": {
     "image/png": "[encoded data removed]"
    }
   },
   "cell_type": "markdown",
   "metadata": {},
   "source": [
    "<img src=\"attachment:image.png\" width=\"600\">"
   ]
  },
  {
   "cell_type": "markdown",
   "metadata": {},
   "source": [
    "Dabei beschränken wir uns auf $r=2$ mit $f_1(x)=1$ und $f_2(x)=x$. Damit folgt $f(x) = \\lambda_1 f_1(x) + \\lambda_2 f_2(x) = \\lambda_1 + \\lambda_2 x$. Im Folgenden setzen wir ausserdem $q\\equiv\\lambda_1$ und $m\\equiv\\lambda_2$. Dadurch reduziert sich das obige lineare Gleichungssystem auf \n",
    "\n",
    "$$\n",
    "\\begin{equation}\n",
    "A = \\begin{pmatrix}\n",
    "1 & x_1 \\\\\n",
    "\\vdots & \\vdots \\\\\n",
    "1 & x_n \\\\\n",
    "\\end{pmatrix} \\in \\mathbb{R}^{n\\times2},\n",
    "\\quad\n",
    "\\vec{v} = \\begin{pmatrix}\n",
    "q \\\\  m\n",
    "\\end{pmatrix} \\in \\mathbb{R}^{2},\n",
    "\\quad\n",
    "\\vec{b} = \\begin{pmatrix}\n",
    "y_1 \\\\ \\vdots \\\\ y_n\n",
    "\\end{pmatrix} \\in \\mathbb{R}^n.\n",
    "\\end{equation}\n",
    "$$\n",
    "\n",
    "Hierbei ist $m$ die Steigung und $q$ der y-Achsenabschnitt der an die Punkte angepassten Geraden."
   ]
  },
  {
   "cell_type": "markdown",
   "metadata": {},
   "source": [
    "### Teilaufgabe a) (3 Punkte)\n",
    "\n",
    "Gegeben sei die folgende Liste aus Wertepaaren $(x_i, y_i)$:"
   ]
  },
  {
   "cell_type": "code",
   "execution_count": null,
   "metadata": {},
   "outputs": [],
   "source": [
    "w = np.array( \n",
    "    [(0.0, 3.8), (1.0, 3.9), (2.0, 5.4), (3.0, 6.5), (4.0, 6.1), (5.0, 10.5), (6.0, 10.3), (7.0, 12.6), \n",
    "     (8.0, 12.1), (9.0, 14.4), (10.0, 14.7)] \n",
    ")"
   ]
  },
  {
   "cell_type": "markdown",
   "metadata": {},
   "source": [
    "Graphisch dargestellt:"
   ]
  },
  {
   "cell_type": "code",
   "execution_count": null,
   "metadata": {},
   "outputs": [],
   "source": [
    "x = w[:,0]\n",
    "y = w[:,1]\n",
    "plt.plot( x, y, 'x', color=\"blue\" )\n",
    "plt.show()"
   ]
  },
  {
   "cell_type": "markdown",
   "metadata": {},
   "source": [
    "Bestimmen Sie die Matrix $A$ und den Spaltenvektor $\\vec{b}$ analog zum Schluss der obigen Einführung und geben Sie beide aus.\n",
    "\n",
    "**Hinweise:** \n",
    "\n",
    "* Mit `np.ones(..)` können Sie Matrizen oder Vektoren aus Einsen erstellen.\n",
    "* Mit `.reshape(-1,1)` können Sie aus einem Zeilenvektor einen Spaltenvektor machen"
   ]
  },
  {
   "cell_type": "code",
   "execution_count": 3,
   "metadata": {},
   "outputs": [],
   "source": [
    "# IHR CODE\n"
   ]
  },
  {
   "cell_type": "code",
   "execution_count": null,
   "metadata": {},
   "outputs": [],
   "source": [
    "# IHR CODE\n"
   ]
  },
  {
   "cell_type": "markdown",
   "metadata": {},
   "source": [
    "### Teilaufgabe b) (4 Punkte)\n",
    "\n",
    "Benutzen Sie die Normalengleichung aus Aufgabe 3 zur Lösung von $A \\vec{v} = \\vec{b}$ nach $\\vec{v} = \\begin{pmatrix} m \\\\ q \\end{pmatrix}$. Geben Sie die Lösung aus und stellen Sie die resultierende Regressionsgerade (=beste angenäherte Gerade) graphisch dar."
   ]
  },
  {
   "cell_type": "code",
   "execution_count": null,
   "metadata": {},
   "outputs": [],
   "source": [
    "# IHR CODE\n"
   ]
  },
  {
   "cell_type": "code",
   "execution_count": null,
   "metadata": {},
   "outputs": [],
   "source": [
    "# IHR CODE\n"
   ]
  },
  {
   "cell_type": "markdown",
   "metadata": {},
   "source": [
    "### Teilaufgabe c) (2 Punkte)\n",
    "\n",
    "Berechnen Sie den quadratischen Fehler $\\left( f(x_1) - y_1 \\right)^2 + \\dots + \\left( f(x_n) - y_n \\right)^2$ für die Regressionsgerade aus Teilaufgabe b) **nur mit Verwendung von $A$ und $\\vec{b}$** und geben Sie ihn aus.\n",
    "\n",
    "**Hinweis:** Verwenden Sie `np.sum()`, `np.dot()` oder `np.linalg.norm()`"
   ]
  },
  {
   "cell_type": "code",
   "execution_count": null,
   "metadata": {},
   "outputs": [],
   "source": [
    "# IHR CODE\n"
   ]
  },
  {
   "cell_type": "markdown",
   "metadata": {},
   "source": [
    "## Aufgabe 5: Weitere Anwendungen der Regressionsformel (11 Punkte)"
   ]
  },
  {
   "cell_type": "markdown",
   "metadata": {},
   "source": [
    "In dieser Aufgabe werden wir diese einfache Regressionsformel auf zwei allgemeinere Probleme ausweiten: In Teilaufgabe a) werden Sie die Regressionsformel für eine nicht-lineare Funktion in $x$ anwenden und in Teilaufgabe b) werden Sie mehr als nur eine unabhängige Variable benutzen."
   ]
  },
  {
   "cell_type": "markdown",
   "metadata": {},
   "source": [
    "### Teilaufgabe a): Anpassen von Polynomfunktionen (5 Punkte)"
   ]
  },
  {
   "cell_type": "markdown",
   "metadata": {},
   "source": [
    "Gegeben sei die folgende Menge aus Wertepaaren:"
   ]
  },
  {
   "cell_type": "code",
   "execution_count": null,
   "metadata": {},
   "outputs": [],
   "source": [
    "w = np.array(\n",
    "    [[-10. , -21.2], [ -9.5, -12.3], [ -9. ,  -4.2], [ -8.5,   3.7], [ -8. ,   8.2], [ -7.5,   9.7],\n",
    "     [ -7. ,  16.2], [ -6.5,  27.1], [ -6. ,  27.6], [ -5.5,  23.7], [ -5. ,  27.7], [ -4.5,  29.2],\n",
    "     [ -4. ,  34.7], [ -3.5,  39.1], [ -3. ,  32.7], [ -2.5,  37.4], [ -2. ,  42. ], [ -1.5,  37.5],\n",
    "     [ -1. ,  35.9], [ -0.5,  35.9], [  0. ,  36.6], [  0.5,  28.4], [  1. ,  30.2], [  1.5,  28.2],\n",
    "     [  2. ,  21.1], [  2.5,  25.4], [  3. ,  17.1], [  3.5,  16.3], [  4. ,   3.7], [  4.5,  -4.1]]\n",
    ")"
   ]
  },
  {
   "cell_type": "markdown",
   "metadata": {},
   "source": [
    "Stellen Sie die Punkte graphisch in einem Koordinatensystem dar:"
   ]
  },
  {
   "cell_type": "code",
   "execution_count": null,
   "metadata": {},
   "outputs": [],
   "source": [
    "# IHR CODE\n"
   ]
  },
  {
   "cell_type": "markdown",
   "metadata": {},
   "source": [
    "Die Punkte sind nun nicht mehr ungefähr entlang einer Gerade verteilt. Sie können nun die für Teilaufgabe 4a) benutzte Matrixdarstellung um eine weitere Spalte mit einer neuen Funktion $f_3(x) = x^2$ erweitern und erhalten somit die Regressionsfunktion \n",
    "$f(x) = \\lambda_1 + \\lambda_2 x + \\lambda_3 x^2$. Braucht es für $\\vec{b}$ ebenfalls Änderungen? Stellen Sie Ihre gefundene Regressionsgerade graphisch dar."
   ]
  },
  {
   "cell_type": "code",
   "execution_count": null,
   "metadata": {},
   "outputs": [],
   "source": [
    "# IHR CODE\n"
   ]
  },
  {
   "cell_type": "code",
   "execution_count": null,
   "metadata": {},
   "outputs": [],
   "source": [
    "# IHR CODE\n"
   ]
  },
  {
   "cell_type": "code",
   "execution_count": null,
   "metadata": {},
   "outputs": [],
   "source": [
    "# IHR CODE\n"
   ]
  },
  {
   "cell_type": "markdown",
   "metadata": {},
   "source": [
    "### Teilaufgabe b): Multivariate Lineare Regression (6 Punkte)"
   ]
  },
  {
   "cell_type": "markdown",
   "metadata": {},
   "source": [
    "Gegeben sei nun eine Menge von Punkten $(x_i, y_i, z_i)$ in einem dreidimensionalen Raum:"
   ]
  },
  {
   "cell_type": "code",
   "execution_count": null,
   "metadata": {},
   "outputs": [],
   "source": [
    "w = np.array(\n",
    "    [[  0.1, -10. ,  18. ], [  2.1,  -7.9,  16.1], [  6. ,  -4. ,  13.1], [  6.8,  -2.9,   7.6],\n",
    "     [  7.9,  -2.1,   8.9], [ 11.1,   0.9,   3.5], [ 13. ,   3. ,  -2.5], [ 14.1,   3.8,   1.1],\n",
    "     [ 15. ,   5. ,   3.2], [ 17.2,   7.1,  -1.3], [ 19. ,   8.9,  -1.7], [ 20.1,   9.9,  -8.9],\n",
    "     [ 20.9,  11. ,  -3.8], [ 25.1,  15.2, -13. ], [ 26.1,  16. , -15.2], [ 27.1,  16.9, -15. ],\n",
    "     [ 29.1,  19.1, -18. ], [ 31.9,  21.8, -17.5], [ 34. ,  24. , -24.7], [ 35.1,  24.9, -22.8],\n",
    "     [ 36. ,  26.1, -27.8], [ 39.9,  30. , -31.7], [ 40.9,  31.2, -32.6], [ 43.1,  33.1, -32.3],\n",
    "     [ 43.9,  34. , -34.1], [ 44.9,  35.1, -34.7], [ 46. ,  36. , -38.5], [ 49.1,  39.1, -40.7]]\n",
    ")"
   ]
  },
  {
   "cell_type": "code",
   "execution_count": null,
   "metadata": {},
   "outputs": [],
   "source": [
    "from mpl_toolkits.mplot3d import Axes3D\n",
    "fig = plt.figure( figsize=(8,5) )\n",
    "ax = fig.add_subplot(111, projection='3d')\n",
    "x = w[:,0]\n",
    "y = w[:,1]\n",
    "z = w[:,2]\n",
    "ax.plot( x, y, z, \"x\" )\n",
    "plt.show()"
   ]
  },
  {
   "cell_type": "markdown",
   "metadata": {},
   "source": [
    "Benutzen Sie die allgemeine Formulierung zu Beginn von Aufgabe 4 und bestimmen Sie die Koeffizienten $a$, $b$ und $c$ im Regressionsproblem\n",
    "\n",
    "$$z = a + c x + d y.$$\n",
    "\n",
    "Stellen Sie ausserdem die resultierende Regressionsgerade im dreidimensionalen Raum graphisch dar."
   ]
  },
  {
   "cell_type": "code",
   "execution_count": null,
   "metadata": {},
   "outputs": [],
   "source": [
    "# IHR CODE\n"
   ]
  },
  {
   "cell_type": "code",
   "execution_count": null,
   "metadata": {},
   "outputs": [],
   "source": [
    "# IHR CODE\n"
   ]
  },
  {
   "cell_type": "code",
   "execution_count": null,
   "metadata": {},
   "outputs": [],
   "source": [
    "# IHR CODE\n"
   ]
  }
 ],
 "metadata": {
  "kernelspec": {
   "display_name": "Python 3",
   "language": "python",
   "name": "python3"
  },
  "language_info": {
   "codemirror_mode": {
    "name": "ipython",
    "version": 2
   },
   "file_extension": ".py",
   "mimetype": "text/x-python",
   "name": "python",
   "nbconvert_exporter": "python",
   "pygments_lexer": "ipython2",
   "version": "2.7.12"
  }
 },
 "nbformat": 4,
 "nbformat_minor": 2
}
